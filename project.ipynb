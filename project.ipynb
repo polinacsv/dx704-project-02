{
  "cells": [
    {
      "cell_type": "markdown",
      "metadata": {
        "id": "7aZ_blKrRZ3H"
      },
      "source": [
        "# DX 704 Week 2 Project\n",
        "\n",
        "This week's project will analyze fresh strawberry price data for a hypothetical \"buy low, freeze, and sell high\" business.\n",
        "Strawberries show strong seasonality in their prices compared to other fruits.\n",
        "\n",
        "![](https://ers.usda.gov/sites/default/files/_laserfiche/Charts/61401/oct14_finding_plattner_fig01.png)\n",
        "\n",
        "Image source: https://www.ers.usda.gov/amber-waves/2014/october/seasonal-fresh-fruit-price-patterns-differ-across-commodities-the-case-of-strawberries-and-apples\n",
        "\n",
        "You are considering a business where you buy strawberries when the prices are very low, carefully freeze them, even more carefully defrost them, and then sell them when the prices are high.\n",
        "You will forecast strawberry price time series and then use them to tactically pick times to buy, freeze, and sell the strawberries."
      ]
    },
    {
      "cell_type": "markdown",
      "metadata": {
        "id": "g1rddBd6_teG"
      },
      "source": [
        "The full project description, a template notebook, and raw data are available on GitHub at the following link.\n",
        "\n",
        "https://github.com/bu-cds-dx704/dx704-project-02\n"
      ]
    },
    {
      "cell_type": "markdown",
      "metadata": {},
      "source": [
        "### Example Code\n",
        "\n",
        "You may find it helpful to refer to these GitHub repositories of Jupyter notebooks for example code.\n",
        "\n",
        "* https://github.com/bu-cds-omds/dx601-examples\n",
        "* https://github.com/bu-cds-omds/dx602-examples\n",
        "* https://github.com/bu-cds-omds/dx603-examples\n",
        "* https://github.com/bu-cds-omds/dx704-examples\n",
        "\n",
        "Any calculations demonstrated in code examples or videos may be found in these notebooks, and you are allowed to copy this example code in your homework answers."
      ]
    },
    {
      "cell_type": "markdown",
      "metadata": {
        "id": "B7jHqNiZBXzD"
      },
      "source": [
        "## Part 1: Backtest Strawberry Prices\n",
        "\n",
        "Read the provided \"strawberry-prices.tsv\" with data from 2020 through 2024.\n",
        "This data is based on data from the U.S. Bureau of Statistics, but transformed so the ground truth is not online.\n",
        "https://fred.stlouisfed.org/series/APU0000711415\n",
        "\n",
        "Use the data for 2020 through 2023 to predict monthly prices in 2024.\n",
        "Spend some time to make sure you are happy with your methodology and prediction accuracy, since you will reuse the methodology to forecast 2025 next.\n",
        "Save the 2024 backtest predictions as \"strawberry-backtest.tsv\" with columns month and price.\n"
      ]
    },
    {
      "cell_type": "code",
      "execution_count": 1,
      "metadata": {
        "id": "T8OLCmHbiaoK"
      },
      "outputs": [
        {
          "data": {
            "text/html": [
              "<div>\n",
              "<style scoped>\n",
              "    .dataframe tbody tr th:only-of-type {\n",
              "        vertical-align: middle;\n",
              "    }\n",
              "\n",
              "    .dataframe tbody tr th {\n",
              "        vertical-align: top;\n",
              "    }\n",
              "\n",
              "    .dataframe thead th {\n",
              "        text-align: right;\n",
              "    }\n",
              "</style>\n",
              "<table border=\"1\" class=\"dataframe\">\n",
              "  <thead>\n",
              "    <tr style=\"text-align: right;\">\n",
              "      <th></th>\n",
              "      <th>month</th>\n",
              "      <th>price</th>\n",
              "    </tr>\n",
              "  </thead>\n",
              "  <tbody>\n",
              "    <tr>\n",
              "      <th>0</th>\n",
              "      <td>2020-01-01</td>\n",
              "      <td>4.0490</td>\n",
              "    </tr>\n",
              "    <tr>\n",
              "      <th>1</th>\n",
              "      <td>2020-02-01</td>\n",
              "      <td>3.6250</td>\n",
              "    </tr>\n",
              "    <tr>\n",
              "      <th>2</th>\n",
              "      <td>2020-03-01</td>\n",
              "      <td>3.3770</td>\n",
              "    </tr>\n",
              "    <tr>\n",
              "      <th>3</th>\n",
              "      <td>2020-04-01</td>\n",
              "      <td>3.2328</td>\n",
              "    </tr>\n",
              "    <tr>\n",
              "      <th>4</th>\n",
              "      <td>2020-05-01</td>\n",
              "      <td>3.1260</td>\n",
              "    </tr>\n",
              "  </tbody>\n",
              "</table>\n",
              "</div>"
            ],
            "text/plain": [
              "        month   price\n",
              "0  2020-01-01  4.0490\n",
              "1  2020-02-01  3.6250\n",
              "2  2020-03-01  3.3770\n",
              "3  2020-04-01  3.2328\n",
              "4  2020-05-01  3.1260"
            ]
          },
          "execution_count": 1,
          "metadata": {},
          "output_type": "execute_result"
        }
      ],
      "source": [
        "# YOUR CHANGES HERE\n",
        "\n",
        "import os\n",
        "import pandas as pd\n",
        "import numpy as np\n",
        "import matplotlib.pyplot as plt\n",
        "from typing import Tuple, Dict, Any\n",
        "\n",
        "# Statsmodels for forecasting\n",
        "import warnings\n",
        "warnings.filterwarnings(\"ignore\")\n",
        "try:\n",
        "    from statsmodels.tsa.holtwinters import ExponentialSmoothing\n",
        "except Exception as e:\n",
        "    ExponentialSmoothing = None\n",
        "\n",
        "\n",
        "\n",
        "\n",
        "df = pd.read_csv(\"strawberry-prices.tsv\", sep=\"\\t\")\n",
        "\n",
        "\n",
        "df.head()"
      ]
    },
    {
      "cell_type": "code",
      "execution_count": 2,
      "metadata": {},
      "outputs": [
        {
          "data": {
            "image/png": "[encoded data removed]",
            "text/plain": [
              "<Figure size 900x400 with 1 Axes>"
            ]
          },
          "metadata": {},
          "output_type": "display_data"
        },
        {
          "data": {
            "text/plain": [
              "('strawberry-backtest.tsv',\n",
              " 'SeasonalNaive',\n",
              " 0.3177499999999999,\n",
              " 0.2555833333333332,\n",
              " 0.32130579930444236,\n",
              " 7.309170086155229)"
            ]
          },
          "execution_count": 2,
          "metadata": {},
          "output_type": "execute_result"
        }
      ],
      "source": [
        "\n",
        "df[\"month\"] = pd.to_datetime(df[\"month\"])\n",
        "df = df.set_index(\"month\").asfreq(\"MS\")\n",
        "df = df.sort_index()\n",
        "\n",
        "y_all = df[\"price\"].astype(float)\n",
        "y_train_val = y_all.loc[\"2020-01\":\"2022-12\"]\n",
        "y_val_actual = y_all.loc[\"2023-01\":\"2023-12\"]\n",
        "y_final_train = y_all.loc[\"2020-01\":\"2023-12\"]\n",
        "y_test_actual_2024 = y_all.loc[\"2024-01\":\"2024-12\"]\n",
        "\n",
        "def seasonal_naive_forecast(train: pd.Series, horizon: int, seasonal_periods: int = 12) -> pd.Series:\n",
        "    last_season = train[-seasonal_periods:]\n",
        "    repeats = int(np.ceil(horizon / seasonal_periods))\n",
        "    forecast_vals = np.tile(last_season.values, repeats)[:horizon]\n",
        "    idx = pd.date_range(start=train.index[-1] + pd.offsets.MonthBegin(1), periods=horizon, freq=\"MS\")\n",
        "    return pd.Series(forecast_vals, index=idx, name=\"forecast\")\n",
        "\n",
        "def evaluate_mae(y_true: pd.Series, y_pred: pd.Series) -> float:\n",
        "    aligned = y_true.to_frame(\"true\").join(y_pred.to_frame(\"pred\"), how=\"inner\")\n",
        "    return float(np.mean(np.abs(aligned[\"true\"] - aligned[\"pred\"])))\n",
        "\n",
        "sn_val = seasonal_naive_forecast(y_train_val, 12, 12)\n",
        "mae_sn = evaluate_mae(y_val_actual, sn_val)\n",
        "\n",
        "best_model_name = \"SeasonalNaive\"\n",
        "best_val_mae = mae_sn\n",
        "\n",
        "fc_2024 = seasonal_naive_forecast(y_final_train, 12, 12)\n",
        "\n",
        "mae_2024 = evaluate_mae(y_test_actual_2024, fc_2024)\n",
        "rmse_2024 = float(np.sqrt(np.mean((y_test_actual_2024.values - fc_2024.values) ** 2)))\n",
        "mape_2024 = float(np.mean(np.abs((y_test_actual_2024.values - fc_2024.values) / y_test_actual_2024.values))) * 100.0\n",
        "\n",
        "backtest_df = fc_2024.to_frame(name=\"price\").reset_index().rename(columns={\"index\": \"month\"})\n",
        "backtest_df[\"month\"] = backtest_df[\"month\"].dt.strftime(\"%Y-%m\")\n",
        "out_path = \"strawberry-backtest.tsv\"\n",
        "backtest_df.to_csv(out_path, sep=\"\\t\", index=False)\n",
        "\n",
        "plt.figure(figsize=(9,4))\n",
        "y_test_actual_2024.plot(label=\"Actual 2024\")\n",
        "fc_2024.plot(label=\"Predicted 2024\")\n",
        "plt.title(\"Strawberry Prices: 2024 Backtest\")\n",
        "plt.legend()\n",
        "plt.tight_layout()\n",
        "plt.show()\n",
        "\n",
        "\n",
        "out_path, best_model_name, best_val_mae, mae_2024, rmse_2024, mape_2024\n"
      ]
    },
    {
      "cell_type": "markdown",
      "metadata": {
        "id": "vzTi6z-skMoz"
      },
      "source": [
        "Submit \"strawberry-backtest.tsv\" in Gradescope."
      ]
    },
    {
      "cell_type": "markdown",
      "metadata": {
        "id": "T3D1ItqDnt9c"
      },
      "source": [
        "## Part 2: Backtest Errors\n",
        "\n",
        "What are the mean and standard deviation of the residuals between your backtest predictions and the ground truth? (If your mean is not close to zero, then you may be missing a long term trend.)\n",
        "\n",
        "Write the mean and standard deviation to a file \"backtest-accuracy.tsv\" with two columns, mean and std."
      ]
    },
    {
      "cell_type": "code",
      "execution_count": 3,
      "metadata": {
        "id": "3wxh46v8tnv8"
      },
      "outputs": [],
      "source": [
        "# YOUR CHANGES HERE\n",
        "\n",
        "\n",
        "\n",
        "pred = pd.read_csv(\"strawberry-backtest.tsv\", sep=\"\\t\", parse_dates=[\"month\"])\n",
        "pred = pred.set_index(\"month\").sort_index()\n",
        "\n",
        "actual_2024 = df.loc[\"2024-01-01\":\"2024-12-01\", \"price\"]\n",
        "predicted_2024 = pred[\"price\"]\n",
        "\n",
        "residuals = actual_2024 - predicted_2024\n",
        "\n",
        "mean_resid = residuals.mean()\n",
        "std_resid = residuals.std(ddof=1)  # sample std\n",
        "\n",
        "out = pd.DataFrame([{\"mean\": mean_resid, \"std\": std_resid}])\n",
        "out.to_csv(\"backtest-accuracy.tsv\", sep=\"\\t\", index=False)\n",
        "\n"
      ]
    },
    {
      "cell_type": "markdown",
      "metadata": {
        "id": "Cq2d378QtnG9"
      },
      "source": [
        "Submit \"backtest-accuracy.tsv\" in Gradescope."
      ]
    },
    {
      "cell_type": "markdown",
      "metadata": {
        "id": "Pa4DWVrpj5mq"
      },
      "source": [
        "## Part 3: Forecast Strawberry Prices\n",
        "\n",
        "Use all the data from 2020 through 2024 to predict monthly prices in 2025 using the same methodology from part 1.\n",
        "Make a monthly forecast for each month of 2025 and save it as \"strawberry-forecast.tsv\" with columns for month and price."
      ]
    },
    {
      "cell_type": "code",
      "execution_count": 4,
      "metadata": {
        "id": "CiKoW3BrkJiS"
      },
      "outputs": [
        {
          "name": "stdout",
          "output_type": "stream",
          "text": [
            "Saved 2025 forecast to strawberry-forecast.tsv\n",
            "     month  price\n",
            "0  2025-01  5.055\n",
            "1  2025-02  4.264\n",
            "2  2025-03  3.742\n",
            "3  2025-04  3.576\n",
            "4  2025-05  3.237\n"
          ]
        }
      ],
      "source": [
        "# YOUR CHANGES HERE\n",
        "\n",
        "\n",
        "df = pd.read_csv(\"strawberry-prices.tsv\", sep=\"\\t\", parse_dates=[\"month\"])\n",
        "df = df.set_index(\"month\").asfreq(\"MS\").sort_index()\n",
        "\n",
        "def seasonal_naive_forecast(train: pd.Series, horizon: int, seasonal_periods: int = 12) -> pd.Series:\n",
        "    last_season = train[-seasonal_periods:]\n",
        "    repeats = int(np.ceil(horizon / seasonal_periods))\n",
        "    forecast_vals = np.tile(last_season.values, repeats)[:horizon]\n",
        "    idx = pd.date_range(start=train.index[-1] + pd.offsets.MonthBegin(1), periods=horizon, freq=\"MS\")\n",
        "    return pd.Series(forecast_vals, index=idx, name=\"price\")\n",
        "\n",
        "y_full = df[\"price\"].astype(float)\n",
        "\n",
        "forecast_2025 = seasonal_naive_forecast(y_full, horizon=12, seasonal_periods=12)\n",
        "\n",
        "forecast_df = forecast_2025.reset_index().rename(columns={\"index\": \"month\"})\n",
        "forecast_df[\"month\"] = forecast_df[\"month\"].dt.strftime(\"%Y-%m\")\n",
        "forecast_df.to_csv(\"strawberry-forecast.tsv\", sep=\"\\t\", index=False)\n",
        "\n",
        "print(\"Saved 2025 forecast to strawberry-forecast.tsv\")\n",
        "print(forecast_df.head())"
      ]
    },
    {
      "cell_type": "markdown",
      "metadata": {
        "id": "32lM_MPdico0"
      },
      "source": [
        "Submit \"strawberry-forecast.tsv\" in Gradescope."
      ]
    },
    {
      "cell_type": "markdown",
      "metadata": {
        "id": "SzCWxxaLi8MH"
      },
      "source": [
        "## Part 4: Buy Low, Freeze and Sell High\n",
        "\n",
        "Using your 2025 forecast, analyze the profit picking different pairs of months to buy and sell strawberries.\n",
        "Maximize your profit assuming that it costs &dollar;0.20 per pint to freeze the strawberries, &dollar;0.10 per pint per month to store the frozen strawberries and there is a 10% price discount from selling previously frozen strawberries.\n",
        "So, if you buy a pint of strawberies for &dollar;1, freeze them, and sell them for &dollar;2 three months after buying them, then the profit is &dollar;2 * 0.9 - &dollar;1 - &dollar;0.20 - &dollar;0.10 * 3 = &dollar;0.30 per pint.\n",
        "To evaluate a given pair of months, assume that you can invest &dollar;1,000,000 to cover all costs, and that you buy as many pints of strawberries as possible.\n",
        "\n",
        "Write the results of your analysis to a file \"timings.tsv\" with columns for the buy_month, sell_month, pints_purchased, and expected_profit."
      ]
    },
    {
      "cell_type": "code",
      "execution_count": 5,
      "metadata": {
        "id": "pGWQQvy6nkCk"
      },
      "outputs": [
        {
          "name": "stdout",
          "output_type": "stream",
          "text": [
            "Saved analysis to timings.tsv\n",
            "  buy_month sell_month  pints_purchased  expected_profit\n",
            "2   2025-06    2025-12           264760      157346.8680\n",
            "4   2025-07    2025-12           262054      145518.5862\n",
            "6   2025-08    2025-12           253356      107498.9508\n",
            "1   2025-06    2025-11           271960       81859.9600\n",
            "3   2025-07    2025-11           269106       70505.7720\n"
          ]
        }
      ],
      "source": [
        "# YOUR CHANGES HERE\n",
        "\n",
        "\n",
        "forecast = pd.read_csv(\"strawberry-forecast.tsv\", sep=\"\\t\", parse_dates=[\"month\"])\n",
        "forecast = forecast.set_index(\"month\").sort_index()\n",
        "\n",
        "freeze_cost = 0.20\n",
        "storage_cost_per_month = 0.10\n",
        "discount = 0.10\n",
        "investment = 1_000_000\n",
        "\n",
        "results = []\n",
        "\n",
        "months = forecast.index\n",
        "for i, buy_month in enumerate(months[:-1]):  # can't sell before buying\n",
        "    buy_price = forecast.loc[buy_month, \"price\"]\n",
        "    for j, sell_month in enumerate(months[i+1:], start=i+1):\n",
        "        sell_price = forecast.loc[sell_month, \"price\"]\n",
        "        months_between = (sell_month.to_period(\"M\").ordinal - buy_month.to_period(\"M\").ordinal)\n",
        "\n",
        "        # Effective sell price with discount\n",
        "        effective_sell = sell_price * (1 - discount)\n",
        "\n",
        "        # Net profit per pint\n",
        "        profit_per_pint = effective_sell - buy_price - freeze_cost - storage_cost_per_month * months_between\n",
        "\n",
        "        if profit_per_pint > 0:\n",
        "            # Initial cost per pint includes purchase + freeze + storage\n",
        "            total_cost_per_pint = buy_price + freeze_cost + storage_cost_per_month * months_between\n",
        "\n",
        "            # Number of pints that can be bought with available capital\n",
        "            pints = int(investment // total_cost_per_pint)\n",
        "\n",
        "            expected_profit = pints * profit_per_pint\n",
        "\n",
        "            results.append({\n",
        "                \"buy_month\": buy_month.strftime(\"%Y-%m\"),\n",
        "                \"sell_month\": sell_month.strftime(\"%Y-%m\"),\n",
        "                \"pints_purchased\": pints,\n",
        "                \"expected_profit\": expected_profit\n",
        "            })\n",
        "\n",
        "timings_df = pd.DataFrame(results)\n",
        "timings_df.to_csv(\"timings.tsv\", sep=\"\\t\", index=False)\n",
        "\n",
        "print(\"Saved analysis to timings.tsv\")\n",
        "print(timings_df.sort_values(\"expected_profit\", ascending=False).head())"
      ]
    },
    {
      "cell_type": "markdown",
      "metadata": {
        "id": "XAWzFd54nlxI"
      },
      "source": [
        "Submit \"timings.tsv\" in Gradescope."
      ]
    },
    {
      "cell_type": "markdown",
      "metadata": {
        "id": "LdrZE8qKCDUv"
      },
      "source": [
        "## Part 5: Strategy Check\n",
        "\n",
        "What is the best profit scenario according to your previous timing analysis?\n",
        "How much does that profit change if the sell price is off by one standard deviation from your backtest analysis?\n",
        "(Variation in the sell price is more dangerous because you can see the buy price before fully committing.)\n",
        "\n",
        "Write the results to a file \"check.tsv\" with columns best_profit and one_std_profit."
      ]
    },
    {
      "cell_type": "code",
      "execution_count": 7,
      "metadata": {},
      "outputs": [
        {
          "name": "stdout",
          "output_type": "stream",
          "text": [
            "Saved results to check.tsv\n",
            "   best_profit  one_std_profit\n",
            "0   157346.868    88446.675972\n"
          ]
        }
      ],
      "source": [
        "\n",
        "timings = timings_df\n",
        "\n",
        "acc = pd.read_csv(\"backtest-accuracy.tsv\", sep=\"\\t\")\n",
        "resid_std = float(acc[\"std\"].iloc[0])\n",
        "\n",
        "forecast = pd.read_csv(\"strawberry-forecast.tsv\", sep=\"\\t\", parse_dates=[\"month\"])\n",
        "forecast = forecast.set_index(\"month\")\n",
        "\n",
        "freeze_cost = 0.20\n",
        "storage_cost_per_month = 0.10\n",
        "discount = 0.10\n",
        "investment = 1_000_000\n",
        "\n",
        "best_row = timings.loc[timings[\"expected_profit\"].idxmax()]\n",
        "best_profit = float(best_row[\"expected_profit\"])\n",
        "buy_month_str = str(best_row[\"buy_month\"])\n",
        "sell_month_str = str(best_row[\"sell_month\"])\n",
        "\n",
        "buy_price = float(forecast.loc[pd.to_datetime(buy_month_str), \"price\"])\n",
        "sell_price = float(forecast.loc[pd.to_datetime(sell_month_str), \"price\"])\n",
        "\n",
        "months_between = (\n",
        "    pd.Period(sell_month_str, freq=\"M\").ordinal\n",
        "    - pd.Period(buy_month_str, freq=\"M\").ordinal\n",
        ")\n",
        "\n",
        "sell_price_adj = max(0.0, sell_price - resid_std)\n",
        "effective_sell_adj = sell_price_adj * (1 - discount)\n",
        "\n",
        "profit_per_pint_adj = effective_sell_adj - buy_price - freeze_cost - storage_cost_per_month * months_between\n",
        "\n",
        "if profit_per_pint_adj > 0:\n",
        "    total_cost_per_pint = buy_price + freeze_cost + storage_cost_per_month * months_between\n",
        "    pints = int(investment // total_cost_per_pint)\n",
        "    one_std_profit = pints * profit_per_pint_adj\n",
        "else:\n",
        "    one_std_profit = 0.0\n",
        "\n",
        "check = pd.DataFrame([{\n",
        "    \"best_profit\": best_profit,\n",
        "    \"one_std_profit\": one_std_profit\n",
        "}])\n",
        "check.to_csv(\"check.tsv\", sep=\"\\t\", index=False)\n",
        "\n",
        "print(\"Saved results to check.tsv\")\n",
        "print(check)\n"
      ]
    },
    {
      "cell_type": "markdown",
      "metadata": {
        "id": "M--8x-ZMEKAi"
      },
      "source": [
        "Submit \"check.tsv\" in Gradescope."
      ]
    },
    {
      "cell_type": "markdown",
      "metadata": {
        "id": "usYg0VtaqrGN"
      },
      "source": [
        "## Part 6: Acknowledgments\n",
        "\n",
        "Make a file \"acknowledgments.txt\" documenting any outside sources or help on this project.\n",
        "If you discussed this assignment with anyone, please acknowledge them here.\n",
        "If you used any libraries not mentioned in this module's content, please list them with a brief explanation what you used them for.\n",
        "If you used any generative AI tools, please add links to your transcripts below, and any other information that you feel is necessary to comply with the generative AI policy.\n",
        "If no acknowledgments are appropriate, just write none in the file.\n"
      ]
    },
    {
      "cell_type": "code",
      "execution_count": 8,
      "metadata": {},
      "outputs": [],
      "source": [
        "with open(\"acknowledgments.txt\", \"w\") as f:\n",
        "    f.write(\"none\\n\")"
      ]
    },
    {
      "cell_type": "markdown",
      "metadata": {
        "id": "dZdLWQD8qvVV"
      },
      "source": [
        "Submit \"acknowledgments.txt\" in Gradescope."
      ]
    },
    {
      "cell_type": "markdown",
      "metadata": {
        "id": "n7ls909LqzkL"
      },
      "source": [
        "## Part 7: Code\n",
        "\n",
        "Please submit a Jupyter notebook that can reproduce all your calculations and recreate the previously submitted files.\n",
        "You do not need to provide code for data collection if you did that by manually."
      ]
    },
    {
      "cell_type": "markdown",
      "metadata": {
        "id": "mtgsTYQIq2pB"
      },
      "source": [
        "Submit \"project.ipynb\" in Gradescope."
      ]
    }
  ],
  "metadata": {
    "colab": {
      "toc_visible": false
    },
    "kernelspec": {
      "display_name": "Python 3",
      "name": "python3"
    },
    "language_info": {
      "codemirror_mode": {
        "name": "ipython",
        "version": 3
      },
      "file_extension": ".py",
      "mimetype": "text/x-python",
      "name": "python",
      "nbconvert_exporter": "python",
      "pygments_lexer": "ipython3",
      "version": "3.12.1"
    }
  },
  "nbformat": 4,
  "nbformat_minor": 0
}
